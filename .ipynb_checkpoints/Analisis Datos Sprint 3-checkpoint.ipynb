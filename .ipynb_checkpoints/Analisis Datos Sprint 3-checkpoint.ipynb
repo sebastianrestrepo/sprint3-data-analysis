{
 "cells": [
  {
   "cell_type": "code",
   "execution_count": 37,
   "metadata": {},
   "outputs": [],
   "source": [
    "import numpy as np #operaciones matriciales y con vectores\n",
    "import pandas as pd #tratamiento de datos\n",
    "import matplotlib.pyplot as plt #gráficos\n",
    "from sklearn.neighbors import KNeighborsClassifier\n",
    "from sklearn.naive_bayes import BernoulliNB, GaussianNB, MultinomialNB\n",
    "from sklearn.model_selection import train_test_split #metodo de particionamiento de datasets para evaluación\n",
    "from sklearn.model_selection import cross_val_score #protocolo de evaluación\n",
    "from sklearn import neighbors, datasets, metrics\n",
    "from sklearn import preprocessing \n",
    "import seaborn as sns"
   ]
  },
  {
   "cell_type": "code",
   "execution_count": 38,
   "metadata": {},
   "outputs": [
    {
     "data": {
      "text/html": [
       "<div>\n",
       "<style scoped>\n",
       "    .dataframe tbody tr th:only-of-type {\n",
       "        vertical-align: middle;\n",
       "    }\n",
       "\n",
       "    .dataframe tbody tr th {\n",
       "        vertical-align: top;\n",
       "    }\n",
       "\n",
       "    .dataframe thead th {\n",
       "        text-align: right;\n",
       "    }\n",
       "</style>\n",
       "<table border=\"1\" class=\"dataframe\">\n",
       "  <thead>\n",
       "    <tr style=\"text-align: right;\">\n",
       "      <th></th>\n",
       "      <th>nombre</th>\n",
       "      <th>sesion</th>\n",
       "      <th>herr</th>\n",
       "      <th>FA1</th>\n",
       "      <th>PU1</th>\n",
       "      <th>AE1</th>\n",
       "      <th>RW1</th>\n",
       "      <th>RW2</th>\n",
       "      <th>FA2</th>\n",
       "      <th>AE2</th>\n",
       "      <th>PU2</th>\n",
       "      <th>FA3</th>\n",
       "      <th>PU3</th>\n",
       "      <th>AE3</th>\n",
       "      <th>RW3</th>\n",
       "      <th>FATOTAL</th>\n",
       "      <th>PUTOTAL</th>\n",
       "      <th>RWTOTAL</th>\n",
       "      <th>AETOTAL</th>\n",
       "    </tr>\n",
       "  </thead>\n",
       "  <tbody>\n",
       "    <tr>\n",
       "      <th>0</th>\n",
       "      <td>Valentina Echeverry Soto</td>\n",
       "      <td>1.0</td>\n",
       "      <td>Arbimon</td>\n",
       "      <td>1.0</td>\n",
       "      <td>1.0</td>\n",
       "      <td>5.0</td>\n",
       "      <td>5.0</td>\n",
       "      <td>5.0</td>\n",
       "      <td>5.0</td>\n",
       "      <td>4.0</td>\n",
       "      <td>1.0</td>\n",
       "      <td>5.0</td>\n",
       "      <td>4.0</td>\n",
       "      <td>4.0</td>\n",
       "      <td>3.0</td>\n",
       "      <td>3.666667</td>\n",
       "      <td>2.000000</td>\n",
       "      <td>4.333333</td>\n",
       "      <td>4.333333</td>\n",
       "    </tr>\n",
       "    <tr>\n",
       "      <th>1</th>\n",
       "      <td>Valentina Echeverry Soto</td>\n",
       "      <td>1.0</td>\n",
       "      <td>Bioviz 2</td>\n",
       "      <td>5.0</td>\n",
       "      <td>5.0</td>\n",
       "      <td>5.0</td>\n",
       "      <td>5.0</td>\n",
       "      <td>5.0</td>\n",
       "      <td>5.0</td>\n",
       "      <td>5.0</td>\n",
       "      <td>5.0</td>\n",
       "      <td>5.0</td>\n",
       "      <td>5.0</td>\n",
       "      <td>5.0</td>\n",
       "      <td>5.0</td>\n",
       "      <td>5.000000</td>\n",
       "      <td>5.000000</td>\n",
       "      <td>5.000000</td>\n",
       "      <td>5.000000</td>\n",
       "    </tr>\n",
       "    <tr>\n",
       "      <th>2</th>\n",
       "      <td>Valentina Echeverry Soto</td>\n",
       "      <td>1.0</td>\n",
       "      <td>Bioviz 1</td>\n",
       "      <td>4.0</td>\n",
       "      <td>5.0</td>\n",
       "      <td>5.0</td>\n",
       "      <td>5.0</td>\n",
       "      <td>5.0</td>\n",
       "      <td>4.0</td>\n",
       "      <td>5.0</td>\n",
       "      <td>5.0</td>\n",
       "      <td>5.0</td>\n",
       "      <td>5.0</td>\n",
       "      <td>4.0</td>\n",
       "      <td>5.0</td>\n",
       "      <td>4.333333</td>\n",
       "      <td>5.000000</td>\n",
       "      <td>5.000000</td>\n",
       "      <td>4.666667</td>\n",
       "    </tr>\n",
       "    <tr>\n",
       "      <th>3</th>\n",
       "      <td>Karolina Fierro</td>\n",
       "      <td>2.0</td>\n",
       "      <td>Bioviz 1</td>\n",
       "      <td>4.0</td>\n",
       "      <td>4.0</td>\n",
       "      <td>4.0</td>\n",
       "      <td>4.0</td>\n",
       "      <td>4.0</td>\n",
       "      <td>3.0</td>\n",
       "      <td>4.0</td>\n",
       "      <td>3.0</td>\n",
       "      <td>4.0</td>\n",
       "      <td>4.0</td>\n",
       "      <td>4.0</td>\n",
       "      <td>4.0</td>\n",
       "      <td>3.666667</td>\n",
       "      <td>3.666667</td>\n",
       "      <td>4.000000</td>\n",
       "      <td>4.000000</td>\n",
       "    </tr>\n",
       "    <tr>\n",
       "      <th>4</th>\n",
       "      <td>Karolina Fierro</td>\n",
       "      <td>2.0</td>\n",
       "      <td>Arbimon</td>\n",
       "      <td>3.0</td>\n",
       "      <td>4.0</td>\n",
       "      <td>4.0</td>\n",
       "      <td>4.0</td>\n",
       "      <td>4.0</td>\n",
       "      <td>3.0</td>\n",
       "      <td>4.0</td>\n",
       "      <td>3.0</td>\n",
       "      <td>4.0</td>\n",
       "      <td>4.0</td>\n",
       "      <td>3.0</td>\n",
       "      <td>4.0</td>\n",
       "      <td>3.333333</td>\n",
       "      <td>3.666667</td>\n",
       "      <td>4.000000</td>\n",
       "      <td>3.666667</td>\n",
       "    </tr>\n",
       "  </tbody>\n",
       "</table>\n",
       "</div>"
      ],
      "text/plain": [
       "                     nombre  sesion      herr  FA1  PU1  AE1  RW1  RW2  FA2  \\\n",
       "0  Valentina Echeverry Soto     1.0   Arbimon  1.0  1.0  5.0  5.0  5.0  5.0   \n",
       "1  Valentina Echeverry Soto     1.0  Bioviz 2  5.0  5.0  5.0  5.0  5.0  5.0   \n",
       "2  Valentina Echeverry Soto     1.0  Bioviz 1  4.0  5.0  5.0  5.0  5.0  4.0   \n",
       "3           Karolina Fierro     2.0  Bioviz 1  4.0  4.0  4.0  4.0  4.0  3.0   \n",
       "4           Karolina Fierro     2.0   Arbimon  3.0  4.0  4.0  4.0  4.0  3.0   \n",
       "\n",
       "   AE2  PU2  FA3  PU3  AE3  RW3   FATOTAL   PUTOTAL   RWTOTAL   AETOTAL  \n",
       "0  4.0  1.0  5.0  4.0  4.0  3.0  3.666667  2.000000  4.333333  4.333333  \n",
       "1  5.0  5.0  5.0  5.0  5.0  5.0  5.000000  5.000000  5.000000  5.000000  \n",
       "2  5.0  5.0  5.0  5.0  4.0  5.0  4.333333  5.000000  5.000000  4.666667  \n",
       "3  4.0  3.0  4.0  4.0  4.0  4.0  3.666667  3.666667  4.000000  4.000000  \n",
       "4  4.0  3.0  4.0  4.0  3.0  4.0  3.333333  3.666667  4.000000  3.666667  "
      ]
     },
     "execution_count": 38,
     "metadata": {},
     "output_type": "execute_result"
    }
   ],
   "source": [
    "data = pd.read_csv('s3data.csv', sep=\";\", decimal=\",\")\n",
    "data.head()"
   ]
  },
  {
   "cell_type": "code",
   "execution_count": 39,
   "metadata": {},
   "outputs": [
    {
     "data": {
      "text/plain": [
       "nombre      object\n",
       "sesion     float64\n",
       "herr        object\n",
       "FA1        float64\n",
       "PU1        float64\n",
       "AE1        float64\n",
       "RW1        float64\n",
       "RW2        float64\n",
       "FA2        float64\n",
       "AE2        float64\n",
       "PU2        float64\n",
       "FA3        float64\n",
       "PU3        float64\n",
       "AE3        float64\n",
       "RW3        float64\n",
       "FATOTAL    float64\n",
       "PUTOTAL    float64\n",
       "RWTOTAL    float64\n",
       "AETOTAL    float64\n",
       "dtype: object"
      ]
     },
     "execution_count": 39,
     "metadata": {},
     "output_type": "execute_result"
    }
   ],
   "source": [
    "data.dtypes"
   ]
  },
  {
   "cell_type": "code",
   "execution_count": 40,
   "metadata": {},
   "outputs": [
    {
     "data": {
      "text/html": [
       "<div>\n",
       "<style scoped>\n",
       "    .dataframe tbody tr th:only-of-type {\n",
       "        vertical-align: middle;\n",
       "    }\n",
       "\n",
       "    .dataframe tbody tr th {\n",
       "        vertical-align: top;\n",
       "    }\n",
       "\n",
       "    .dataframe thead th {\n",
       "        text-align: right;\n",
       "    }\n",
       "</style>\n",
       "<table border=\"1\" class=\"dataframe\">\n",
       "  <thead>\n",
       "    <tr style=\"text-align: right;\">\n",
       "      <th></th>\n",
       "      <th>nombre</th>\n",
       "      <th>sesion</th>\n",
       "      <th>herr</th>\n",
       "      <th>FA1</th>\n",
       "      <th>PU1</th>\n",
       "      <th>AE1</th>\n",
       "      <th>RW1</th>\n",
       "      <th>RW2</th>\n",
       "      <th>FA2</th>\n",
       "      <th>AE2</th>\n",
       "      <th>PU2</th>\n",
       "      <th>FA3</th>\n",
       "      <th>PU3</th>\n",
       "      <th>AE3</th>\n",
       "      <th>RW3</th>\n",
       "      <th>FATOTAL</th>\n",
       "      <th>PUTOTAL</th>\n",
       "      <th>RWTOTAL</th>\n",
       "      <th>AETOTAL</th>\n",
       "    </tr>\n",
       "  </thead>\n",
       "  <tbody>\n",
       "    <tr>\n",
       "      <th>count</th>\n",
       "      <td>54</td>\n",
       "      <td>54.000000</td>\n",
       "      <td>54</td>\n",
       "      <td>54.000000</td>\n",
       "      <td>54.000000</td>\n",
       "      <td>54.000000</td>\n",
       "      <td>54.000000</td>\n",
       "      <td>54.000000</td>\n",
       "      <td>54.000000</td>\n",
       "      <td>54.000000</td>\n",
       "      <td>54.000000</td>\n",
       "      <td>54.000000</td>\n",
       "      <td>54.000000</td>\n",
       "      <td>54.000000</td>\n",
       "      <td>54.000000</td>\n",
       "      <td>54.000000</td>\n",
       "      <td>54.000000</td>\n",
       "      <td>54.000000</td>\n",
       "      <td>54.000000</td>\n",
       "    </tr>\n",
       "    <tr>\n",
       "      <th>unique</th>\n",
       "      <td>12</td>\n",
       "      <td>NaN</td>\n",
       "      <td>3</td>\n",
       "      <td>NaN</td>\n",
       "      <td>NaN</td>\n",
       "      <td>NaN</td>\n",
       "      <td>NaN</td>\n",
       "      <td>NaN</td>\n",
       "      <td>NaN</td>\n",
       "      <td>NaN</td>\n",
       "      <td>NaN</td>\n",
       "      <td>NaN</td>\n",
       "      <td>NaN</td>\n",
       "      <td>NaN</td>\n",
       "      <td>NaN</td>\n",
       "      <td>NaN</td>\n",
       "      <td>NaN</td>\n",
       "      <td>NaN</td>\n",
       "      <td>NaN</td>\n",
       "    </tr>\n",
       "    <tr>\n",
       "      <th>top</th>\n",
       "      <td>Karolina Fierro</td>\n",
       "      <td>NaN</td>\n",
       "      <td>Bioviz 2</td>\n",
       "      <td>NaN</td>\n",
       "      <td>NaN</td>\n",
       "      <td>NaN</td>\n",
       "      <td>NaN</td>\n",
       "      <td>NaN</td>\n",
       "      <td>NaN</td>\n",
       "      <td>NaN</td>\n",
       "      <td>NaN</td>\n",
       "      <td>NaN</td>\n",
       "      <td>NaN</td>\n",
       "      <td>NaN</td>\n",
       "      <td>NaN</td>\n",
       "      <td>NaN</td>\n",
       "      <td>NaN</td>\n",
       "      <td>NaN</td>\n",
       "      <td>NaN</td>\n",
       "    </tr>\n",
       "    <tr>\n",
       "      <th>freq</th>\n",
       "      <td>6</td>\n",
       "      <td>NaN</td>\n",
       "      <td>18</td>\n",
       "      <td>NaN</td>\n",
       "      <td>NaN</td>\n",
       "      <td>NaN</td>\n",
       "      <td>NaN</td>\n",
       "      <td>NaN</td>\n",
       "      <td>NaN</td>\n",
       "      <td>NaN</td>\n",
       "      <td>NaN</td>\n",
       "      <td>NaN</td>\n",
       "      <td>NaN</td>\n",
       "      <td>NaN</td>\n",
       "      <td>NaN</td>\n",
       "      <td>NaN</td>\n",
       "      <td>NaN</td>\n",
       "      <td>NaN</td>\n",
       "      <td>NaN</td>\n",
       "    </tr>\n",
       "    <tr>\n",
       "      <th>mean</th>\n",
       "      <td>NaN</td>\n",
       "      <td>1.333333</td>\n",
       "      <td>NaN</td>\n",
       "      <td>3.703704</td>\n",
       "      <td>3.777778</td>\n",
       "      <td>4.222222</td>\n",
       "      <td>4.185185</td>\n",
       "      <td>4.240741</td>\n",
       "      <td>3.425926</td>\n",
       "      <td>3.851852</td>\n",
       "      <td>3.296296</td>\n",
       "      <td>4.111111</td>\n",
       "      <td>3.796296</td>\n",
       "      <td>3.759259</td>\n",
       "      <td>3.870370</td>\n",
       "      <td>3.746914</td>\n",
       "      <td>3.623457</td>\n",
       "      <td>4.098765</td>\n",
       "      <td>3.944444</td>\n",
       "    </tr>\n",
       "    <tr>\n",
       "      <th>std</th>\n",
       "      <td>NaN</td>\n",
       "      <td>0.475831</td>\n",
       "      <td>NaN</td>\n",
       "      <td>1.002443</td>\n",
       "      <td>1.093146</td>\n",
       "      <td>0.839287</td>\n",
       "      <td>0.675000</td>\n",
       "      <td>0.612301</td>\n",
       "      <td>0.923526</td>\n",
       "      <td>1.088662</td>\n",
       "      <td>1.191632</td>\n",
       "      <td>0.634441</td>\n",
       "      <td>0.876951</td>\n",
       "      <td>0.698656</td>\n",
       "      <td>0.728045</td>\n",
       "      <td>0.656958</td>\n",
       "      <td>0.866440</td>\n",
       "      <td>0.585032</td>\n",
       "      <td>0.757215</td>\n",
       "    </tr>\n",
       "    <tr>\n",
       "      <th>min</th>\n",
       "      <td>NaN</td>\n",
       "      <td>1.000000</td>\n",
       "      <td>NaN</td>\n",
       "      <td>1.000000</td>\n",
       "      <td>1.000000</td>\n",
       "      <td>2.000000</td>\n",
       "      <td>3.000000</td>\n",
       "      <td>2.000000</td>\n",
       "      <td>2.000000</td>\n",
       "      <td>1.000000</td>\n",
       "      <td>1.000000</td>\n",
       "      <td>2.000000</td>\n",
       "      <td>2.000000</td>\n",
       "      <td>2.000000</td>\n",
       "      <td>2.000000</td>\n",
       "      <td>2.000000</td>\n",
       "      <td>1.666667</td>\n",
       "      <td>2.333333</td>\n",
       "      <td>2.000000</td>\n",
       "    </tr>\n",
       "    <tr>\n",
       "      <th>25%</th>\n",
       "      <td>NaN</td>\n",
       "      <td>1.000000</td>\n",
       "      <td>NaN</td>\n",
       "      <td>3.000000</td>\n",
       "      <td>3.000000</td>\n",
       "      <td>4.000000</td>\n",
       "      <td>4.000000</td>\n",
       "      <td>4.000000</td>\n",
       "      <td>3.000000</td>\n",
       "      <td>3.000000</td>\n",
       "      <td>2.000000</td>\n",
       "      <td>4.000000</td>\n",
       "      <td>3.000000</td>\n",
       "      <td>3.000000</td>\n",
       "      <td>4.000000</td>\n",
       "      <td>3.333333</td>\n",
       "      <td>3.000000</td>\n",
       "      <td>4.000000</td>\n",
       "      <td>3.416667</td>\n",
       "    </tr>\n",
       "    <tr>\n",
       "      <th>50%</th>\n",
       "      <td>NaN</td>\n",
       "      <td>1.000000</td>\n",
       "      <td>NaN</td>\n",
       "      <td>4.000000</td>\n",
       "      <td>4.000000</td>\n",
       "      <td>4.000000</td>\n",
       "      <td>4.000000</td>\n",
       "      <td>4.000000</td>\n",
       "      <td>3.000000</td>\n",
       "      <td>4.000000</td>\n",
       "      <td>4.000000</td>\n",
       "      <td>4.000000</td>\n",
       "      <td>4.000000</td>\n",
       "      <td>4.000000</td>\n",
       "      <td>4.000000</td>\n",
       "      <td>3.666667</td>\n",
       "      <td>3.666667</td>\n",
       "      <td>4.000000</td>\n",
       "      <td>4.000000</td>\n",
       "    </tr>\n",
       "    <tr>\n",
       "      <th>75%</th>\n",
       "      <td>NaN</td>\n",
       "      <td>2.000000</td>\n",
       "      <td>NaN</td>\n",
       "      <td>4.000000</td>\n",
       "      <td>4.750000</td>\n",
       "      <td>5.000000</td>\n",
       "      <td>5.000000</td>\n",
       "      <td>5.000000</td>\n",
       "      <td>4.000000</td>\n",
       "      <td>5.000000</td>\n",
       "      <td>4.000000</td>\n",
       "      <td>4.000000</td>\n",
       "      <td>4.000000</td>\n",
       "      <td>4.000000</td>\n",
       "      <td>4.000000</td>\n",
       "      <td>4.000000</td>\n",
       "      <td>4.000000</td>\n",
       "      <td>4.333333</td>\n",
       "      <td>4.583333</td>\n",
       "    </tr>\n",
       "    <tr>\n",
       "      <th>max</th>\n",
       "      <td>NaN</td>\n",
       "      <td>2.000000</td>\n",
       "      <td>NaN</td>\n",
       "      <td>5.000000</td>\n",
       "      <td>5.000000</td>\n",
       "      <td>5.000000</td>\n",
       "      <td>5.000000</td>\n",
       "      <td>5.000000</td>\n",
       "      <td>5.000000</td>\n",
       "      <td>5.000000</td>\n",
       "      <td>5.000000</td>\n",
       "      <td>5.000000</td>\n",
       "      <td>5.000000</td>\n",
       "      <td>5.000000</td>\n",
       "      <td>5.000000</td>\n",
       "      <td>5.000000</td>\n",
       "      <td>5.000000</td>\n",
       "      <td>5.000000</td>\n",
       "      <td>5.000000</td>\n",
       "    </tr>\n",
       "  </tbody>\n",
       "</table>\n",
       "</div>"
      ],
      "text/plain": [
       "                 nombre     sesion      herr        FA1        PU1        AE1  \\\n",
       "count                54  54.000000        54  54.000000  54.000000  54.000000   \n",
       "unique               12        NaN         3        NaN        NaN        NaN   \n",
       "top     Karolina Fierro        NaN  Bioviz 2        NaN        NaN        NaN   \n",
       "freq                  6        NaN        18        NaN        NaN        NaN   \n",
       "mean                NaN   1.333333       NaN   3.703704   3.777778   4.222222   \n",
       "std                 NaN   0.475831       NaN   1.002443   1.093146   0.839287   \n",
       "min                 NaN   1.000000       NaN   1.000000   1.000000   2.000000   \n",
       "25%                 NaN   1.000000       NaN   3.000000   3.000000   4.000000   \n",
       "50%                 NaN   1.000000       NaN   4.000000   4.000000   4.000000   \n",
       "75%                 NaN   2.000000       NaN   4.000000   4.750000   5.000000   \n",
       "max                 NaN   2.000000       NaN   5.000000   5.000000   5.000000   \n",
       "\n",
       "              RW1        RW2        FA2        AE2        PU2        FA3  \\\n",
       "count   54.000000  54.000000  54.000000  54.000000  54.000000  54.000000   \n",
       "unique        NaN        NaN        NaN        NaN        NaN        NaN   \n",
       "top           NaN        NaN        NaN        NaN        NaN        NaN   \n",
       "freq          NaN        NaN        NaN        NaN        NaN        NaN   \n",
       "mean     4.185185   4.240741   3.425926   3.851852   3.296296   4.111111   \n",
       "std      0.675000   0.612301   0.923526   1.088662   1.191632   0.634441   \n",
       "min      3.000000   2.000000   2.000000   1.000000   1.000000   2.000000   \n",
       "25%      4.000000   4.000000   3.000000   3.000000   2.000000   4.000000   \n",
       "50%      4.000000   4.000000   3.000000   4.000000   4.000000   4.000000   \n",
       "75%      5.000000   5.000000   4.000000   5.000000   4.000000   4.000000   \n",
       "max      5.000000   5.000000   5.000000   5.000000   5.000000   5.000000   \n",
       "\n",
       "              PU3        AE3        RW3    FATOTAL    PUTOTAL    RWTOTAL  \\\n",
       "count   54.000000  54.000000  54.000000  54.000000  54.000000  54.000000   \n",
       "unique        NaN        NaN        NaN        NaN        NaN        NaN   \n",
       "top           NaN        NaN        NaN        NaN        NaN        NaN   \n",
       "freq          NaN        NaN        NaN        NaN        NaN        NaN   \n",
       "mean     3.796296   3.759259   3.870370   3.746914   3.623457   4.098765   \n",
       "std      0.876951   0.698656   0.728045   0.656958   0.866440   0.585032   \n",
       "min      2.000000   2.000000   2.000000   2.000000   1.666667   2.333333   \n",
       "25%      3.000000   3.000000   4.000000   3.333333   3.000000   4.000000   \n",
       "50%      4.000000   4.000000   4.000000   3.666667   3.666667   4.000000   \n",
       "75%      4.000000   4.000000   4.000000   4.000000   4.000000   4.333333   \n",
       "max      5.000000   5.000000   5.000000   5.000000   5.000000   5.000000   \n",
       "\n",
       "          AETOTAL  \n",
       "count   54.000000  \n",
       "unique        NaN  \n",
       "top           NaN  \n",
       "freq          NaN  \n",
       "mean     3.944444  \n",
       "std      0.757215  \n",
       "min      2.000000  \n",
       "25%      3.416667  \n",
       "50%      4.000000  \n",
       "75%      4.583333  \n",
       "max      5.000000  "
      ]
     },
     "execution_count": 40,
     "metadata": {},
     "output_type": "execute_result"
    }
   ],
   "source": [
    "data.describe(include=\"all\")"
   ]
  },
  {
   "cell_type": "code",
   "execution_count": 41,
   "metadata": {},
   "outputs": [
    {
     "data": {
      "text/plain": [
       "nombre      object\n",
       "sesion     float64\n",
       "herr        object\n",
       "FA1        float64\n",
       "PU1        float64\n",
       "AE1        float64\n",
       "RW1        float64\n",
       "RW2        float64\n",
       "FA2        float64\n",
       "AE2        float64\n",
       "PU2        float64\n",
       "FA3        float64\n",
       "PU3        float64\n",
       "AE3        float64\n",
       "RW3        float64\n",
       "FATOTAL    float64\n",
       "PUTOTAL    float64\n",
       "RWTOTAL    float64\n",
       "AETOTAL    float64\n",
       "dtype: object"
      ]
     },
     "execution_count": 41,
     "metadata": {},
     "output_type": "execute_result"
    }
   ],
   "source": [
    "data.dtypes"
   ]
  },
  {
   "cell_type": "code",
   "execution_count": 42,
   "metadata": {},
   "outputs": [
    {
     "data": {
      "text/plain": [
       "nombre      object\n",
       "sesion     float64\n",
       "herr        object\n",
       "FA1        float64\n",
       "PU1        float64\n",
       "AE1        float64\n",
       "RW1        float64\n",
       "RW2        float64\n",
       "FA2        float64\n",
       "AE2        float64\n",
       "PU2        float64\n",
       "FA3        float64\n",
       "PU3        float64\n",
       "AE3        float64\n",
       "RW3        float64\n",
       "FATOTAL    float64\n",
       "PUTOTAL    float64\n",
       "RWTOTAL    float64\n",
       "AETOTAL    float64\n",
       "dtype: object"
      ]
     },
     "execution_count": 42,
     "metadata": {},
     "output_type": "execute_result"
    }
   ],
   "source": [
    "data.RW3 = data.RW3.astype(float)\n",
    "data.FATOTAL = data.FATOTAL.astype(float)\n",
    "data.PUTOTAL = data.PUTOTAL.astype(float)\n",
    "data.RWTOTAL = data.RWTOTAL.astype(float)\n",
    "data.AETOTAL = data.AETOTAL.astype(float)\n",
    "\n",
    "\n",
    "data.dtypes"
   ]
  },
  {
   "cell_type": "code",
   "execution_count": 43,
   "metadata": {},
   "outputs": [],
   "source": [
    "dataTotales = data[['nombre', 'sesion', 'herr', 'FATOTAL', 'PUTOTAL', 'RWTOTAL', 'AETOTAL']]"
   ]
  },
  {
   "cell_type": "code",
   "execution_count": 44,
   "metadata": {},
   "outputs": [
    {
     "data": {
      "text/html": [
       "<div>\n",
       "<style scoped>\n",
       "    .dataframe tbody tr th:only-of-type {\n",
       "        vertical-align: middle;\n",
       "    }\n",
       "\n",
       "    .dataframe tbody tr th {\n",
       "        vertical-align: top;\n",
       "    }\n",
       "\n",
       "    .dataframe thead th {\n",
       "        text-align: right;\n",
       "    }\n",
       "</style>\n",
       "<table border=\"1\" class=\"dataframe\">\n",
       "  <thead>\n",
       "    <tr style=\"text-align: right;\">\n",
       "      <th></th>\n",
       "      <th>nombre</th>\n",
       "      <th>sesion</th>\n",
       "      <th>herr</th>\n",
       "      <th>FATOTAL</th>\n",
       "      <th>PUTOTAL</th>\n",
       "      <th>RWTOTAL</th>\n",
       "      <th>AETOTAL</th>\n",
       "    </tr>\n",
       "  </thead>\n",
       "  <tbody>\n",
       "    <tr>\n",
       "      <th>0</th>\n",
       "      <td>Valentina Echeverry Soto</td>\n",
       "      <td>1.0</td>\n",
       "      <td>Arbimon</td>\n",
       "      <td>3.666667</td>\n",
       "      <td>2.000000</td>\n",
       "      <td>4.333333</td>\n",
       "      <td>4.333333</td>\n",
       "    </tr>\n",
       "    <tr>\n",
       "      <th>1</th>\n",
       "      <td>Valentina Echeverry Soto</td>\n",
       "      <td>1.0</td>\n",
       "      <td>Bioviz 2</td>\n",
       "      <td>5.000000</td>\n",
       "      <td>5.000000</td>\n",
       "      <td>5.000000</td>\n",
       "      <td>5.000000</td>\n",
       "    </tr>\n",
       "    <tr>\n",
       "      <th>2</th>\n",
       "      <td>Valentina Echeverry Soto</td>\n",
       "      <td>1.0</td>\n",
       "      <td>Bioviz 1</td>\n",
       "      <td>4.333333</td>\n",
       "      <td>5.000000</td>\n",
       "      <td>5.000000</td>\n",
       "      <td>4.666667</td>\n",
       "    </tr>\n",
       "    <tr>\n",
       "      <th>3</th>\n",
       "      <td>Karolina Fierro</td>\n",
       "      <td>2.0</td>\n",
       "      <td>Bioviz 1</td>\n",
       "      <td>3.666667</td>\n",
       "      <td>3.666667</td>\n",
       "      <td>4.000000</td>\n",
       "      <td>4.000000</td>\n",
       "    </tr>\n",
       "    <tr>\n",
       "      <th>4</th>\n",
       "      <td>Karolina Fierro</td>\n",
       "      <td>2.0</td>\n",
       "      <td>Arbimon</td>\n",
       "      <td>3.333333</td>\n",
       "      <td>3.666667</td>\n",
       "      <td>4.000000</td>\n",
       "      <td>3.666667</td>\n",
       "    </tr>\n",
       "  </tbody>\n",
       "</table>\n",
       "</div>"
      ],
      "text/plain": [
       "                     nombre  sesion      herr   FATOTAL   PUTOTAL   RWTOTAL  \\\n",
       "0  Valentina Echeverry Soto     1.0   Arbimon  3.666667  2.000000  4.333333   \n",
       "1  Valentina Echeverry Soto     1.0  Bioviz 2  5.000000  5.000000  5.000000   \n",
       "2  Valentina Echeverry Soto     1.0  Bioviz 1  4.333333  5.000000  5.000000   \n",
       "3           Karolina Fierro     2.0  Bioviz 1  3.666667  3.666667  4.000000   \n",
       "4           Karolina Fierro     2.0   Arbimon  3.333333  3.666667  4.000000   \n",
       "\n",
       "    AETOTAL  \n",
       "0  4.333333  \n",
       "1  5.000000  \n",
       "2  4.666667  \n",
       "3  4.000000  \n",
       "4  3.666667  "
      ]
     },
     "execution_count": 44,
     "metadata": {},
     "output_type": "execute_result"
    }
   ],
   "source": [
    "dataTotales.head()"
   ]
  },
  {
   "cell_type": "code",
   "execution_count": 45,
   "metadata": {},
   "outputs": [
    {
     "data": {
      "text/html": [
       "<div>\n",
       "<style scoped>\n",
       "    .dataframe tbody tr th:only-of-type {\n",
       "        vertical-align: middle;\n",
       "    }\n",
       "\n",
       "    .dataframe tbody tr th {\n",
       "        vertical-align: top;\n",
       "    }\n",
       "\n",
       "    .dataframe thead th {\n",
       "        text-align: right;\n",
       "    }\n",
       "</style>\n",
       "<table border=\"1\" class=\"dataframe\">\n",
       "  <thead>\n",
       "    <tr style=\"text-align: right;\">\n",
       "      <th></th>\n",
       "      <th>nombre</th>\n",
       "      <th>sesion</th>\n",
       "      <th>herr</th>\n",
       "      <th>FATOTAL</th>\n",
       "      <th>PUTOTAL</th>\n",
       "      <th>RWTOTAL</th>\n",
       "      <th>AETOTAL</th>\n",
       "    </tr>\n",
       "  </thead>\n",
       "  <tbody>\n",
       "    <tr>\n",
       "      <th>count</th>\n",
       "      <td>54</td>\n",
       "      <td>54.000000</td>\n",
       "      <td>54</td>\n",
       "      <td>54.000000</td>\n",
       "      <td>54.000000</td>\n",
       "      <td>54.000000</td>\n",
       "      <td>54.000000</td>\n",
       "    </tr>\n",
       "    <tr>\n",
       "      <th>unique</th>\n",
       "      <td>12</td>\n",
       "      <td>NaN</td>\n",
       "      <td>3</td>\n",
       "      <td>NaN</td>\n",
       "      <td>NaN</td>\n",
       "      <td>NaN</td>\n",
       "      <td>NaN</td>\n",
       "    </tr>\n",
       "    <tr>\n",
       "      <th>top</th>\n",
       "      <td>Karolina Fierro</td>\n",
       "      <td>NaN</td>\n",
       "      <td>Bioviz 2</td>\n",
       "      <td>NaN</td>\n",
       "      <td>NaN</td>\n",
       "      <td>NaN</td>\n",
       "      <td>NaN</td>\n",
       "    </tr>\n",
       "    <tr>\n",
       "      <th>freq</th>\n",
       "      <td>6</td>\n",
       "      <td>NaN</td>\n",
       "      <td>18</td>\n",
       "      <td>NaN</td>\n",
       "      <td>NaN</td>\n",
       "      <td>NaN</td>\n",
       "      <td>NaN</td>\n",
       "    </tr>\n",
       "    <tr>\n",
       "      <th>mean</th>\n",
       "      <td>NaN</td>\n",
       "      <td>1.333333</td>\n",
       "      <td>NaN</td>\n",
       "      <td>3.746914</td>\n",
       "      <td>3.623457</td>\n",
       "      <td>4.098765</td>\n",
       "      <td>3.944444</td>\n",
       "    </tr>\n",
       "    <tr>\n",
       "      <th>std</th>\n",
       "      <td>NaN</td>\n",
       "      <td>0.475831</td>\n",
       "      <td>NaN</td>\n",
       "      <td>0.656958</td>\n",
       "      <td>0.866440</td>\n",
       "      <td>0.585032</td>\n",
       "      <td>0.757215</td>\n",
       "    </tr>\n",
       "    <tr>\n",
       "      <th>min</th>\n",
       "      <td>NaN</td>\n",
       "      <td>1.000000</td>\n",
       "      <td>NaN</td>\n",
       "      <td>2.000000</td>\n",
       "      <td>1.666667</td>\n",
       "      <td>2.333333</td>\n",
       "      <td>2.000000</td>\n",
       "    </tr>\n",
       "    <tr>\n",
       "      <th>25%</th>\n",
       "      <td>NaN</td>\n",
       "      <td>1.000000</td>\n",
       "      <td>NaN</td>\n",
       "      <td>3.333333</td>\n",
       "      <td>3.000000</td>\n",
       "      <td>4.000000</td>\n",
       "      <td>3.416667</td>\n",
       "    </tr>\n",
       "    <tr>\n",
       "      <th>50%</th>\n",
       "      <td>NaN</td>\n",
       "      <td>1.000000</td>\n",
       "      <td>NaN</td>\n",
       "      <td>3.666667</td>\n",
       "      <td>3.666667</td>\n",
       "      <td>4.000000</td>\n",
       "      <td>4.000000</td>\n",
       "    </tr>\n",
       "    <tr>\n",
       "      <th>75%</th>\n",
       "      <td>NaN</td>\n",
       "      <td>2.000000</td>\n",
       "      <td>NaN</td>\n",
       "      <td>4.000000</td>\n",
       "      <td>4.000000</td>\n",
       "      <td>4.333333</td>\n",
       "      <td>4.583333</td>\n",
       "    </tr>\n",
       "    <tr>\n",
       "      <th>max</th>\n",
       "      <td>NaN</td>\n",
       "      <td>2.000000</td>\n",
       "      <td>NaN</td>\n",
       "      <td>5.000000</td>\n",
       "      <td>5.000000</td>\n",
       "      <td>5.000000</td>\n",
       "      <td>5.000000</td>\n",
       "    </tr>\n",
       "  </tbody>\n",
       "</table>\n",
       "</div>"
      ],
      "text/plain": [
       "                 nombre     sesion      herr    FATOTAL    PUTOTAL    RWTOTAL  \\\n",
       "count                54  54.000000        54  54.000000  54.000000  54.000000   \n",
       "unique               12        NaN         3        NaN        NaN        NaN   \n",
       "top     Karolina Fierro        NaN  Bioviz 2        NaN        NaN        NaN   \n",
       "freq                  6        NaN        18        NaN        NaN        NaN   \n",
       "mean                NaN   1.333333       NaN   3.746914   3.623457   4.098765   \n",
       "std                 NaN   0.475831       NaN   0.656958   0.866440   0.585032   \n",
       "min                 NaN   1.000000       NaN   2.000000   1.666667   2.333333   \n",
       "25%                 NaN   1.000000       NaN   3.333333   3.000000   4.000000   \n",
       "50%                 NaN   1.000000       NaN   3.666667   3.666667   4.000000   \n",
       "75%                 NaN   2.000000       NaN   4.000000   4.000000   4.333333   \n",
       "max                 NaN   2.000000       NaN   5.000000   5.000000   5.000000   \n",
       "\n",
       "          AETOTAL  \n",
       "count   54.000000  \n",
       "unique        NaN  \n",
       "top           NaN  \n",
       "freq          NaN  \n",
       "mean     3.944444  \n",
       "std      0.757215  \n",
       "min      2.000000  \n",
       "25%      3.416667  \n",
       "50%      4.000000  \n",
       "75%      4.583333  \n",
       "max      5.000000  "
      ]
     },
     "execution_count": 45,
     "metadata": {},
     "output_type": "execute_result"
    }
   ],
   "source": [
    "dataTotales.describe(include=\"all\")"
   ]
  },
  {
   "cell_type": "markdown",
   "metadata": {},
   "source": [
    "### Apariencia estética total vs Herramienta"
   ]
  },
  {
   "cell_type": "code",
   "execution_count": 133,
   "metadata": {},
   "outputs": [
    {
     "name": "stdout",
     "output_type": "stream",
     "text": [
      "Arbimon Apariencia Estética Total 57.999999998999996\n",
      "Arbimon Usabilidad Percibida Total 51.666666667\n",
      "Arbimon Atención Enfocada Total 60.333333332\n"
     ]
    }
   ],
   "source": [
    "dataArbimon = dataTotales[dataTotales.herr == \"Arbimon\"]\n",
    "\n",
    "AE_Arbimon = dataArbimon['AETOTAL'].sum()\n",
    "print('Arbimon Apariencia Estética Total', AE_Arbimon)\n",
    "PU_Arbimon = dataArbimon['PUTOTAL'].sum()\n",
    "print('Arbimon Usabilidad Percibida Total', PU_Arbimon)\n",
    "RW_Arbimon = dataArbimon['RWTOTAL'].sum()\n",
    "print('Arbimon Gratificación Total', RW_Arbimon)\n",
    "FA_Arbimon = dataArbimon['FATOTAL'].sum()\n",
    "print('Arbimon Atención Enfocada Total', FA_Arbimon)"
   ]
  },
  {
   "cell_type": "markdown",
   "metadata": {},
   "source": [
    "# GRÁFICAS"
   ]
  },
  {
   "cell_type": "markdown",
   "metadata": {},
   "source": [
    "## Variables del engagement vs Herramienta (Box-Plot)"
   ]
  },
  {
   "cell_type": "markdown",
   "metadata": {},
   "source": [
    "### Apariencia estética total vs Herramienta"
   ]
  },
  {
   "cell_type": "code",
   "execution_count": 107,
   "metadata": {},
   "outputs": [
    {
     "data": {
      "text/plain": [
       "[(0, 5.5)]"
      ]
     },
     "execution_count": 107,
     "metadata": {},
     "output_type": "execute_result"
    },
    {
     "data": {
      "image/png": "[encoded data removed]",
      "text/plain": [
       "<Figure size 1440x720 with 1 Axes>"
      ]
     },
     "metadata": {},
     "output_type": "display_data"
    }
   ],
   "source": [
    "plt.figure(figsize=(20, 10))\n",
    "my_pal = {\"Arbimon\": \"gold\", \"Bioviz 1\": \"limegreen\", \"Bioviz 2\":\"limegreen\"}\n",
    "sns.set(font_scale=1.5)\n",
    "fig = sns.boxplot(x=\"herr\", y=\"AETOTAL\", data=dataTotales, palette=my_pal)\n",
    "fig.set(xlabel='Herramientas', ylabel='Apariencia estética total')\n",
    "fig.set(ylim=(0,5.5))"
   ]
  },
  {
   "cell_type": "markdown",
   "metadata": {},
   "source": [
    "### Usabilidad percibida total vs Herramienta"
   ]
  },
  {
   "cell_type": "code",
   "execution_count": 106,
   "metadata": {},
   "outputs": [
    {
     "data": {
      "text/plain": [
       "[(0, 5.5)]"
      ]
     },
     "execution_count": 106,
     "metadata": {},
     "output_type": "execute_result"
    },
    {
     "data": {
      "image/png": "[encoded data removed]",
      "text/plain": [
       "<Figure size 1440x720 with 1 Axes>"
      ]
     },
     "metadata": {},
     "output_type": "display_data"
    }
   ],
   "source": [
    "plt.figure(figsize=(20,10))\n",
    "my_pal = {\"Arbimon\": \"gold\", \"Bioviz 1\": \"limegreen\", \"Bioviz 2\":\"limegreen\"}\n",
    "sns.set(font_scale=1.5)\n",
    "fig = sns.boxplot(x=\"herr\", y=\"PUTOTAL\", data=dataTotales, palette=my_pal)\n",
    "fig.set(xlabel='Herramientas', ylabel='Usabilidad percibida total')\n",
    "fig.set(ylim=(0,5.5))"
   ]
  },
  {
   "cell_type": "markdown",
   "metadata": {},
   "source": [
    "### Gratificación total vs Herramienta"
   ]
  },
  {
   "cell_type": "code",
   "execution_count": 105,
   "metadata": {},
   "outputs": [
    {
     "data": {
      "text/plain": [
       "[(0, 5.5)]"
      ]
     },
     "execution_count": 105,
     "metadata": {},
     "output_type": "execute_result"
    },
    {
     "data": {
      "image/png": "[encoded data removed]",
      "text/plain": [
       "<Figure size 1440x720 with 1 Axes>"
      ]
     },
     "metadata": {},
     "output_type": "display_data"
    }
   ],
   "source": [
    "plt.figure(figsize=(20,10))\n",
    "my_pal = {\"Arbimon\": \"gold\", \"Bioviz 1\": \"limegreen\", \"Bioviz 2\":\"limegreen\"}\n",
    "sns.set(font_scale=1.5)\n",
    "fig = sns.boxplot(x=\"herr\", y=\"RWTOTAL\", data=dataTotales, palette=my_pal)\n",
    "fig.set(xlabel='Herramientas', ylabel='Gratificación total')\n",
    "fig.set(ylim=(0,5.5))"
   ]
  },
  {
   "cell_type": "markdown",
   "metadata": {},
   "source": [
    "### Atención enfocada total vs Herramienta"
   ]
  },
  {
   "cell_type": "code",
   "execution_count": 104,
   "metadata": {},
   "outputs": [
    {
     "data": {
      "text/plain": [
       "[(0, 5.5)]"
      ]
     },
     "execution_count": 104,
     "metadata": {},
     "output_type": "execute_result"
    },
    {
     "data": {
      "image/png": "[encoded data removed]",
      "text/plain": [
       "<Figure size 1440x720 with 1 Axes>"
      ]
     },
     "metadata": {},
     "output_type": "display_data"
    }
   ],
   "source": [
    "plt.figure(figsize=(20,10))\n",
    "my_pal = {\"Arbimon\": \"gold\", \"Bioviz 1\": \"limegreen\", \"Bioviz 2\":\"limegreen\"}\n",
    "sns.set(font_scale=1.5)\n",
    "fig = sns.boxplot(x=\"herr\", y=\"FATOTAL\", data=dataTotales, palette=my_pal)\n",
    "fig.set(xlabel='Herramientas', ylabel='Atención Enfocada')\n",
    "fig.set(ylim=(0,5.5))"
   ]
  },
  {
   "cell_type": "markdown",
   "metadata": {},
   "source": [
    "## Variables del engagement vs Herramienta (Bar-Plot)"
   ]
  },
  {
   "cell_type": "markdown",
   "metadata": {},
   "source": [
    "### Apariencia estética total (AE) vs Herramienta"
   ]
  },
  {
   "cell_type": "code",
   "execution_count": 116,
   "metadata": {},
   "outputs": [
    {
     "data": {
      "text/plain": [
       "[(0, 5)]"
      ]
     },
     "execution_count": 116,
     "metadata": {},
     "output_type": "execute_result"
    },
    {
     "data": {
      "image/png": "[encoded data removed]",
      "text/plain": [
       "<Figure size 1440x720 with 1 Axes>"
      ]
     },
     "metadata": {},
     "output_type": "display_data"
    }
   ],
   "source": [
    "plt.figure(figsize=(20,10))\n",
    "my_pal = {\"Arbimon\": \"gold\", \"Bioviz 1\": \"limegreen\", \"Bioviz 2\":\"limegreen\"}\n",
    "sns.set(font_scale=1.5)\n",
    "ax = sns.barplot(x=\"herr\", y=\"FATOTAL\", data=dataTotales, palette=my_pal)\n",
    "ax.set(xlabel='Herramientas', ylabel='Apariencia estética total')\n",
    "ax.set(ylim=(0,5))"
   ]
  },
  {
   "cell_type": "code",
   "execution_count": null,
   "metadata": {},
   "outputs": [],
   "source": []
  },
  {
   "cell_type": "markdown",
   "metadata": {},
   "source": [
    "### Usabilidad percibida total (PU) vs Herramienta"
   ]
  },
  {
   "cell_type": "code",
   "execution_count": 92,
   "metadata": {},
   "outputs": [
    {
     "data": {
      "text/plain": [
       "[(0, 5)]"
      ]
     },
     "execution_count": 92,
     "metadata": {},
     "output_type": "execute_result"
    },
    {
     "data": {
      "image/png": "[encoded data removed]",
      "text/plain": [
       "<Figure size 1440x720 with 1 Axes>"
      ]
     },
     "metadata": {},
     "output_type": "display_data"
    }
   ],
   "source": [
    "plt.figure(figsize=(20,10))\n",
    "my_pal = {\"Arbimon\": \"gold\", \"Bioviz 1\": \"limegreen\", \"Bioviz 2\":\"limegreen\"}\n",
    "sns.set(font_scale=1.5)\n",
    "ax = sns.barplot(x=\"herr\", y=\"PUTOTAL\", data=dataTotales, palette=my_pal)\n",
    "ax.set(xlabel='Herramientas', ylabel='Usabilidad percibida total')\n",
    "ax.set(ylim=(0,5))"
   ]
  },
  {
   "cell_type": "markdown",
   "metadata": {},
   "source": [
    "### Gratificación total (RW) vs Herramienta"
   ]
  },
  {
   "cell_type": "code",
   "execution_count": 108,
   "metadata": {},
   "outputs": [
    {
     "data": {
      "text/plain": [
       "[(0, 5)]"
      ]
     },
     "execution_count": 108,
     "metadata": {},
     "output_type": "execute_result"
    },
    {
     "data": {
      "image/png": "[encoded data removed]",
      "text/plain": [
       "<Figure size 1440x720 with 1 Axes>"
      ]
     },
     "metadata": {},
     "output_type": "display_data"
    }
   ],
   "source": [
    "plt.figure(figsize=(20,10))\n",
    "my_pal = {\"Arbimon\": \"gold\", \"Bioviz 1\": \"limegreen\", \"Bioviz 2\":\"limegreen\"}\n",
    "sns.set(font_scale=1.5)\n",
    "ax = sns.barplot(x=\"herr\", y=\"RWTOTAL\", data=dataTotales, palette=my_pal)\n",
    "ax.set(xlabel='Herramientas', ylabel='Gratificación total')\n",
    "ax.set(ylim=(0,5))"
   ]
  },
  {
   "cell_type": "markdown",
   "metadata": {},
   "source": [
    "### Atención enfocada total (FA) vs Herramienta"
   ]
  },
  {
   "cell_type": "code",
   "execution_count": 109,
   "metadata": {},
   "outputs": [
    {
     "data": {
      "text/plain": [
       "[(0, 5)]"
      ]
     },
     "execution_count": 109,
     "metadata": {},
     "output_type": "execute_result"
    },
    {
     "data": {
      "image/png": "[encoded data removed]",
      "text/plain": [
       "<Figure size 1440x720 with 1 Axes>"
      ]
     },
     "metadata": {},
     "output_type": "display_data"
    }
   ],
   "source": [
    "plt.figure(figsize=(20,10))\n",
    "my_pal = {\"Arbimon\": \"gold\", \"Bioviz 1\": \"limegreen\", \"Bioviz 2\":\"limegreen\"}\n",
    "sns.set(font_scale=1.5)\n",
    "ax = sns.barplot(x=\"herr\", y=\"FATOTAL\", data=dataTotales, palette=my_pal)\n",
    "ax.set(xlabel='Herramientas', ylabel='Atención enfocada total')\n",
    "ax.set(ylim=(0,5))"
   ]
  },
  {
   "cell_type": "code",
   "execution_count": null,
   "metadata": {},
   "outputs": [],
   "source": []
  }
 ],
 "metadata": {
  "kernelspec": {
   "display_name": "Python 3",
   "language": "python",
   "name": "python3"
  },
  "language_info": {
   "codemirror_mode": {
    "name": "ipython",
    "version": 3
   },
   "file_extension": ".py",
   "mimetype": "text/x-python",
   "name": "python",
   "nbconvert_exporter": "python",
   "pygments_lexer": "ipython3",
   "version": "3.7.1"
  }
 },
 "nbformat": 4,
 "nbformat_minor": 2
}
